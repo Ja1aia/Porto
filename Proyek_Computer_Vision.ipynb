{
  "cells": [
    {
      "cell_type": "code",
      "source": [
        "from google.colab import drive\n",
        "drive.mount('/content/drive')"
      ],
      "metadata": {
        "colab": {
          "base_uri": "https://localhost:8080/"
        },
        "id": "kyQ6adZyNy9j",
        "outputId": "7eff362c-9dce-48a7-ed86-dd35bd45bab0"
      },
      "execution_count": null,
      "outputs": [
        {
          "output_type": "stream",
          "name": "stdout",
          "text": [
            "Mounted at /content/drive\n"
          ]
        }
      ]
    },
    {
      "cell_type": "code",
      "source": [
        "# class check\n",
        "import os\n",
        "from PIL import Image\n",
        "\n",
        "classes_directory = '/content/drive/MyDrive/train'\n",
        "\n",
        "class_images = {}\n",
        "for class_name in os.listdir(classes_directory):\n",
        "    class_folder = os.path.join(classes_directory, class_name)\n",
        "    if os.path.isdir(class_folder):\n",
        "        class_images[class_name] = []\n",
        "        for filename in os.listdir(class_folder):\n",
        "            if filename.endswith('.jpg') or filename.endswith('.png'):\n",
        "                image_path = os.path.join(class_folder, filename)\n",
        "                class_images[class_name].append(image_path)\n",
        "for class_name, images in class_images.items():\n",
        "    print(f\"Class: {class_name}\")\n",
        "    print(f\"Number of images: {len(images)}\")\n",
        "    print(images[0])\n",
        "    sample_image = Image.open(images[0])\n",
        "    sample_image.show()"
      ],
      "metadata": {
        "colab": {
          "base_uri": "https://localhost:8080/"
        },
        "id": "--7O8XhNr-Ud",
        "outputId": "0c98484d-193c-4f93-8747-263a7b31763d"
      },
      "execution_count": null,
      "outputs": [
        {
          "output_type": "stream",
          "name": "stdout",
          "text": [
            "Class: chair\n",
            "Number of images: 400\n",
            "/content/drive/MyDrive/train/chair/girl1_chair085_flipped.jpg\n",
            "Class: warrior\n",
            "Number of images: 400\n",
            "/content/drive/MyDrive/train/warrior/girl1_warrior053.jpg\n",
            "Class: shoudler_stand\n",
            "Number of images: 48\n",
            "/content/drive/MyDrive/train/shoudler_stand/byron-yoga-salamba-sarvangasana-940px_flipped.jpg\n",
            "Class: traingle\n",
            "Number of images: 45\n",
            "/content/drive/MyDrive/train/traingle/f0330204-800px-wm.jpg\n",
            "Class: no_pose\n",
            "Number of images: 26\n",
            "/content/drive/MyDrive/train/no_pose/11.png\n",
            "Class: tree\n",
            "Number of images: 418\n",
            "/content/drive/MyDrive/train/tree/girl1_tree089.jpg\n",
            "Class: dog\n",
            "Number of images: 400\n",
            "/content/drive/MyDrive/train/dog/girl1_dog036_flipped.jpg\n",
            "Class: cobra\n",
            "Number of images: 400\n",
            "/content/drive/MyDrive/train/cobra/girl1_cobra091.jpg\n"
          ]
        }
      ]
    },
    {
      "cell_type": "code",
      "execution_count": null,
      "metadata": {
        "id": "DFd2Dqfb9OuY"
      },
      "outputs": [],
      "source": [
        "import tensorflow as tf\n",
        "import numpy as np"
      ]
    },
    {
      "cell_type": "code",
      "source": [
        "import enum\n",
        "from typing import List, NamedTuple\n",
        "import numpy as np\n",
        "\n",
        "\n",
        "class BodyPart(enum.Enum):\n",
        "  NOSE = 0\n",
        "  LEFT_EYE = 1\n",
        "  RIGHT_EYE = 2\n",
        "  LEFT_EAR = 3\n",
        "  RIGHT_EAR = 4\n",
        "  LEFT_SHOULDER = 5\n",
        "  RIGHT_SHOULDER = 6\n",
        "  LEFT_ELBOW = 7\n",
        "  RIGHT_ELBOW = 8\n",
        "  LEFT_WRIST = 9\n",
        "  RIGHT_WRIST = 10\n",
        "  LEFT_HIP = 11\n",
        "  RIGHT_HIP = 12\n",
        "  LEFT_KNEE = 13\n",
        "  RIGHT_KNEE = 14\n",
        "  LEFT_ANKLE = 15\n",
        "  RIGHT_ANKLE = 16\n",
        "\n",
        "\n",
        "class Point(NamedTuple):\n",
        "  x: float\n",
        "  y: float\n",
        "\n",
        "\n",
        "class Rectangle(NamedTuple):\n",
        "  start_point: Point\n",
        "  end_point: Point\n",
        "\n",
        "\n",
        "class KeyPoint(NamedTuple):\n",
        "  body_part: BodyPart\n",
        "  coordinate: Point\n",
        "  score: float\n",
        "\n",
        "\n",
        "class Person(NamedTuple):\n",
        "  keypoints: List[KeyPoint]\n",
        "  bounding_box: Rectangle\n",
        "  score: float\n",
        "  id: int = None\n",
        "\n",
        "\n",
        "def person_from_keypoints_with_scores(\n",
        "    keypoints_with_scores: np.ndarray,\n",
        "    image_height: float,\n",
        "    image_width: float,\n",
        "    keypoint_score_threshold: float = 0.1) -> Person:\n",
        "\n",
        "  kpts_x = keypoints_with_scores[:, 1]\n",
        "  kpts_y = keypoints_with_scores[:, 0]\n",
        "  scores = keypoints_with_scores[:, 2]\n",
        "\n",
        "  keypoints = []\n",
        "  for i in range(scores.shape[0]):\n",
        "    keypoints.append(\n",
        "        KeyPoint(\n",
        "            BodyPart(i),\n",
        "            Point(int(kpts_x[i] * image_width), int(kpts_y[i] * image_height)),\n",
        "            scores[i]))\n",
        "\n",
        "  start_point = Point(\n",
        "      int(np.amin(kpts_x) * image_width), int(np.amin(kpts_y) * image_height))\n",
        "  end_point = Point(\n",
        "      int(np.amax(kpts_x) * image_width), int(np.amax(kpts_y) * image_height))\n",
        "  bounding_box = Rectangle(start_point, end_point)\n",
        "\n",
        "  scores_above_threshold = list(\n",
        "      filter(lambda x: x > keypoint_score_threshold, scores))\n",
        "  person_score = np.average(scores_above_threshold)\n",
        "\n",
        "  return Person(keypoints, bounding_box, person_score)\n",
        "\n",
        "\n",
        "class Category(NamedTuple):\n",
        "  label: str\n",
        "  score: float\n"
      ],
      "metadata": {
        "id": "VJ9W_rZgKYSG"
      },
      "execution_count": null,
      "outputs": []
    },
    {
      "cell_type": "code",
      "execution_count": null,
      "metadata": {
        "id": "gdx7JMOM3GyU"
      },
      "outputs": [],
      "source": [
        "import numpy as np\n",
        "from PIL import Image, ImageDraw, ImageColor\n",
        "\n",
        "class Pose:\n",
        "  KEYPOINTS = (\n",
        "  'nose',\n",
        "  'left eye',\n",
        "  'right eye',\n",
        "  'left ear',\n",
        "  'right ear',\n",
        "  'left shoulder',\n",
        "  'right shoulder',\n",
        "  'left elbow',\n",
        "  'right elbow',\n",
        "  'left wrist',\n",
        "  'right wrist',\n",
        "  'left hip',\n",
        "  'right hip',\n",
        "  'left knee',\n",
        "  'right knee',\n",
        "  'left ankle',\n",
        "  'right ankle')\n",
        "\n",
        "  EDGES = (\n",
        "      ('nose', 'left eye'),\n",
        "      ('nose', 'right eye'),\n",
        "      ('nose', 'left ear'),\n",
        "      ('nose', 'right ear'),\n",
        "      ('left ear', 'left eye'),\n",
        "      ('right ear', 'right eye'),\n",
        "      ('left eye', 'right eye'),\n",
        "      ('left shoulder', 'right shoulder'),\n",
        "      ('left shoulder', 'left elbow'),\n",
        "      ('left shoulder', 'left hip'),\n",
        "      ('right shoulder', 'right elbow'),\n",
        "      ('right shoulder', 'right hip'),\n",
        "      ('left elbow', 'left wrist'),\n",
        "      ('right elbow', 'right wrist'),\n",
        "      ('left hip', 'right hip'),\n",
        "      ('left hip', 'left knee'),\n",
        "      ('right hip', 'right knee'),\n",
        "      ('left knee', 'left ankle'),\n",
        "      ('right knee', 'right ankle'),\n",
        "  )\n",
        "\n",
        "  def __init__(self, model_path):\n",
        "    self.tflite_interpreter = tf.lite.Interpreter(model_path=model_path)\n",
        "    self.tflite_interpreter.allocate_tensors()\n",
        "\n",
        "    self.input_details = self.tflite_interpreter.get_input_details()\n",
        "    self.output_details = self.tflite_interpreter.get_output_details()\n",
        "\n",
        "  @staticmethod\n",
        "  def _sigmoid(z):\n",
        "    return 1/(1 + np.exp(-z))\n",
        "\n",
        "  def calc(self, img):\n",
        "    self.tflite_interpreter.set_tensor(self.input_details[0]['index'], np.expand_dims(np.asarray(img).astype('float32')/ 128.0 - 1.0, axis=0))\n",
        "    self.tflite_interpreter.invoke()\n",
        "\n",
        "    output_tensor = [self.tflite_interpreter.get_tensor(self.output_details[i][\"index\"]) for i in range(len(self.output_details))]\n",
        "    heatmapsShape = output_tensor[0].shape\n",
        "    offsetsShape = output_tensor[1].shape\n",
        "    displacementsFwdShape = output_tensor[2].shape\n",
        "    displacementsBwdShape = output_tensor[3].shape\n",
        "    heatmaps = np.asarray(output_tensor[0])\n",
        "    offsets = np.asarray(output_tensor[1])\n",
        "    height = heatmaps[0].shape[0]\n",
        "    width = heatmaps[0].shape[1]\n",
        "    numKeypoints = heatmaps[0][0][0].size\n",
        "    keypointPositions = []\n",
        "    for keypoint in range(numKeypoints):\n",
        "      maxVal = heatmaps[0][0][0][keypoint]\n",
        "      maxRow = 0\n",
        "      maxCol = 0\n",
        "      for row in range(height):\n",
        "        for col in range(width):\n",
        "          if (heatmaps[0][row][col][keypoint] > maxVal):\n",
        "            maxVal = heatmaps[0][row][col][keypoint]\n",
        "            maxRow = row\n",
        "            maxCol = col\n",
        "      keypointPositions.append((maxRow, maxCol))\n",
        "    output_dic = {}\n",
        "    total_score = 0.0\n",
        "    for idx, (bodypart, (positionY,positionX)) in enumerate(zip(Pose.KEYPOINTS, keypointPositions)):\n",
        "      output_dic[bodypart] = {}\n",
        "      output_dic[bodypart]['x'] = int(positionX / (width - 1) * img.width + offsets[0][positionY][positionX][idx + numKeypoints])\n",
        "      output_dic[bodypart]['y'] = int(positionY / (height - 1) * img.height + offsets[0][positionY][positionX][idx])\n",
        "      output_dic[bodypart]['score'] = self._sigmoid(heatmaps[0][positionY][positionX][idx])\n",
        "      total_score += output_dic[bodypart]['score']\n",
        "\n",
        "    output_dic['total_score'] = total_score / len(Pose.KEYPOINTS)\n",
        "\n",
        "    return output_dic\n",
        "\n",
        "  def draw_pose(self, pose, img, threshold=0.5, marker_color='green', color='yellow', marker_size=5, thickness=2):\n",
        "    draw = ImageDraw.Draw(img)\n",
        "\n",
        "    for p1, p2 in Pose.EDGES:\n",
        "        if (pose[p1]['score'] < threshold) or (pose[p2]['score'] < threshold): continue\n",
        "        draw.line((pose[p1]['x'], pose[p1]['y'], pose[p2]['x'], pose[p2]['y']), fill=color, width=thickness)\n",
        "\n",
        "    for label, keypoint in pose.items():\n",
        "      if label=='total_score' : break\n",
        "      if keypoint['score'] < threshold: continue\n",
        "      draw.ellipse((int(keypoint['x']-marker_size/2), int(keypoint['y']-marker_size/2), int(keypoint['x']+marker_size/2), int(keypoint['y']+marker_size/2)), fill=marker_color)\n",
        "\n",
        "    return img"
      ]
    },
    {
      "cell_type": "code",
      "execution_count": null,
      "metadata": {
        "colab": {
          "base_uri": "https://localhost:8080/"
        },
        "id": "lYKam-Ny98rA",
        "outputId": "1e403095-e9f5-45c0-c679-1821b7dc5fed"
      },
      "outputs": [
        {
          "output_type": "stream",
          "name": "stdout",
          "text": [
            "--2024-01-07 10:13:48--  https://storage.googleapis.com/download.tensorflow.org/models/tflite/posenet_mobilenet_v1_100_257x257_multi_kpt_stripped.tflite\n",
            "Resolving storage.googleapis.com (storage.googleapis.com)... 142.250.136.207, 142.250.148.207, 209.85.200.207, ...\n",
            "Connecting to storage.googleapis.com (storage.googleapis.com)|142.250.136.207|:443... connected.\n",
            "HTTP request sent, awaiting response... 200 OK\n",
            "Length: 13269068 (13M) [application/octet-stream]\n",
            "Saving to: ‘posenet_mobilenet_v1_100_257x257_multi_kpt_stripped.tflite’\n",
            "\n",
            "\r          posenet_m   0%[                    ]       0  --.-KB/s               \rposenet_mobilenet_v 100%[===================>]  12.65M  --.-KB/s    in 0.09s   \n",
            "\n",
            "2024-01-07 10:13:48 (134 MB/s) - ‘posenet_mobilenet_v1_100_257x257_multi_kpt_stripped.tflite’ saved [13269068/13269068]\n",
            "\n"
          ]
        }
      ],
      "source": [
        "# https://www.tensorflow.org/lite/models/pose_estimation/overview\n",
        "!wget \"https://storage.googleapis.com/download.tensorflow.org/models/tflite/posenet_mobilenet_v1_100_257x257_multi_kpt_stripped.tflite\""
      ]
    },
    {
      "cell_type": "code",
      "source": [
        "import cv2\n",
        "import numpy as np\n",
        "from PIL import Image"
      ],
      "metadata": {
        "id": "83rsmCR6-GzA"
      },
      "execution_count": null,
      "outputs": []
    },
    {
      "cell_type": "code",
      "source": [
        "pose = Pose(\"posenet_mobilenet_v1_100_257x257_multi_kpt_stripped.tflite\")\n",
        "total_iter = 3"
      ],
      "metadata": {
        "id": "BB0WDXPtX1ff"
      },
      "execution_count": null,
      "outputs": []
    },
    {
      "cell_type": "code",
      "source": [
        "import os\n",
        "from PIL import Image\n",
        "import csv\n",
        "def process_image(image):\n",
        "    pose_output = pose.calc(image)\n",
        "    return pose_output\n",
        "classes_directory = '/content/drive/MyDrive/train'\n",
        "output_dicts = []\n",
        "class_labels = {}\n",
        "for class_index, class_name in enumerate(os.listdir(classes_directory)):\n",
        "    class_folder = os.path.join(classes_directory, class_name)\n",
        "    if os.path.isdir(class_folder):\n",
        "        class_labels[class_name] = class_index\n",
        "        for filename in os.listdir(class_folder):\n",
        "            if filename.endswith('.jpg') or filename.endswith('.png'):\n",
        "                image_path = os.path.join(class_folder, filename)\n",
        "                img = Image.open(image_path)\n",
        "                new_size = (257, 257)\n",
        "                resized_img = img.resize(new_size)\n",
        "                output_dict = process_image(resized_img)\n",
        "                output_dicts.append((image_path, output_dict, class_name))\n",
        "key_order = ['nose', 'left eye', 'right eye', 'left ear', 'right ear', 'left shoulder', 'right shoulder',\n",
        "             'left elbow', 'right elbow', 'left wrist', 'right wrist', 'left hip', 'right hip', 'left knee',\n",
        "             'right knee', 'left ankle', 'right ankle']\n",
        "with open('training_data1.csv', 'w', newline='') as csvfile:\n",
        "    writer = csv.writer(csvfile)\n",
        "    writer.writerow(['image_path'] + [f\"{key}_{attr}\" for key in key_order for attr in ['x', 'y', 'score']] + ['class'])\n",
        "    for image_path, output_dict, class_name in output_dicts:\n",
        "        class_index = class_labels[class_name]\n",
        "        writer.writerow([image_path] + [output_dict[key][attr] if key in output_dict else '0' for key in key_order for attr in ['x', 'y', 'score']\n",
        "        ] + [class_index, class_name])"
      ],
      "metadata": {
        "id": "7Nh4bNxBN8Uu"
      },
      "execution_count": null,
      "outputs": []
    }
  ],
  "metadata": {
    "colab": {
      "provenance": [],
      "gpuType": "T4"
    },
    "kernelspec": {
      "display_name": "Python 3",
      "name": "python3"
    },
    "accelerator": "GPU"
  },
  "nbformat": 4,
  "nbformat_minor": 0
}